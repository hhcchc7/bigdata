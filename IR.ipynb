{
  "nbformat": 4,
  "nbformat_minor": 0,
  "metadata": {
    "colab": {
      "name": "IR.ipynb",
      "provenance": [],
      "collapsed_sections": [],
      "include_colab_link": true
    },
    "kernelspec": {
      "name": "ir",
      "display_name": "R"
    }
  },
  "cells": [
    {
      "cell_type": "markdown",
      "metadata": {
        "id": "view-in-github",
        "colab_type": "text"
      },
      "source": [
        "<a href=\"https://colab.research.google.com/github/hhcchc7/bigdata/blob/master/IR.ipynb\" target=\"_parent\"><img src=\"https://colab.research.google.com/assets/colab-badge.svg\" alt=\"Open In Colab\"/></a>"
      ]
    },
    {
      "cell_type": "code",
      "metadata": {
        "id": "Gl6VqFf9XTjZ",
        "colab_type": "code",
        "colab": {}
      },
      "source": [
        "class(2)\n",
        "'numeric'"
      ],
      "execution_count": null,
      "outputs": []
    },
    {
      "cell_type": "code",
      "metadata": {
        "id": "XyHf2APkY3tC",
        "colab_type": "code",
        "colab": {
          "base_uri": "https://localhost:8080/",
          "height": 131
        },
        "outputId": "e853de63-e45a-4d5c-9aaf-6764287accde"
      },
      "source": [
        "my_H <- 1.8\n",
        "\n"
      ],
      "execution_count": null,
      "outputs": [
        {
          "output_type": "error",
          "ename": "ERROR",
          "evalue": "ignored",
          "traceback": [
            "Error in parse(text = x, srcfile = src): <text>:1:12: unexpected symbol\n1: my_H <- 1.8km\n               ^\nTraceback:\n"
          ]
        }
      ]
    },
    {
      "cell_type": "code",
      "metadata": {
        "id": "pE534-BiZHCX",
        "colab_type": "code",
        "colab": {}
      },
      "source": [
        "my_W <- 60"
      ],
      "execution_count": null,
      "outputs": []
    },
    {
      "cell_type": "code",
      "metadata": {
        "id": "LOHNkefvZNEt",
        "colab_type": "code",
        "colab": {
          "base_uri": "https://localhost:8080/",
          "height": 34
        },
        "outputId": "a78301a7-a8e5-428d-b1af-2dd7310f0528"
      },
      "source": [
        "my_W\n"
      ],
      "execution_count": null,
      "outputs": [
        {
          "output_type": "display_data",
          "data": {
            "text/plain": [
              "[1] 60"
            ],
            "text/latex": "60",
            "text/markdown": "60",
            "text/html": [
              "60"
            ]
          },
          "metadata": {
            "tags": []
          }
        }
      ]
    },
    {
      "cell_type": "code",
      "metadata": {
        "id": "tYLYGw7IZPYQ",
        "colab_type": "code",
        "colab": {
          "base_uri": "https://localhost:8080/",
          "height": 34
        },
        "outputId": "e9b67478-44fe-4b6b-facd-b75f390d4a43"
      },
      "source": [
        "my_H\n"
      ],
      "execution_count": null,
      "outputs": [
        {
          "output_type": "display_data",
          "data": {
            "text/plain": [
              "[1] 180"
            ],
            "text/latex": "180",
            "text/markdown": "180",
            "text/html": [
              "180"
            ]
          },
          "metadata": {
            "tags": []
          }
        }
      ]
    },
    {
      "cell_type": "code",
      "metadata": {
        "id": "mPClx1TFZR8E",
        "colab_type": "code",
        "colab": {
          "base_uri": "https://localhost:8080/",
          "height": 34
        },
        "outputId": "7ecd9dd7-90c9-4973-b6b4-9408e0656de6"
      },
      "source": [
        "my_W / my_H / my_H"
      ],
      "execution_count": null,
      "outputs": [
        {
          "output_type": "display_data",
          "data": {
            "text/plain": [
              "[1] 18.51852"
            ],
            "text/latex": "18.5185185185185",
            "text/markdown": "18.5185185185185",
            "text/html": [
              "18.5185185185185"
            ]
          },
          "metadata": {
            "tags": []
          }
        }
      ]
    },
    {
      "cell_type": "code",
      "metadata": {
        "id": "X_JiTq4damvN",
        "colab_type": "code",
        "colab": {}
      },
      "source": [
        "first_name <- \"Chichi\""
      ],
      "execution_count": null,
      "outputs": []
    },
    {
      "cell_type": "code",
      "metadata": {
        "id": "y5REciAbaugY",
        "colab_type": "code",
        "colab": {
          "base_uri": "https://localhost:8080/",
          "height": 34
        },
        "outputId": "a888ddd0-51ff-43fe-881d-80833acc516c"
      },
      "source": [
        "first_name"
      ],
      "execution_count": null,
      "outputs": [
        {
          "output_type": "display_data",
          "data": {
            "text/plain": [
              "[1] \"Chichi\""
            ],
            "text/latex": "'Chichi'",
            "text/markdown": "'Chichi'",
            "text/html": [
              "'Chichi'"
            ]
          },
          "metadata": {
            "tags": []
          }
        }
      ]
    },
    {
      "cell_type": "code",
      "metadata": {
        "id": "UmKJ0bpAbiLM",
        "colab_type": "code",
        "colab": {
          "base_uri": "https://localhost:8080/",
          "height": 34
        },
        "outputId": "722083a9-ffba-4d7e-e17f-9844352b5953"
      },
      "source": [
        "paste0 (\"我的名字叫\", first_name , \"我的身高\" , my_H , \"公里\" , \"我的體重\" , my_W , \"公斤\")"
      ],
      "execution_count": null,
      "outputs": [
        {
          "output_type": "display_data",
          "data": {
            "text/plain": [
              "[1] \"我的名字叫Chichi我的身高1.8公里我的體重60公斤\""
            ],
            "text/latex": "'我的名字叫Chichi我的身高1.8公里我的體重60公斤'",
            "text/markdown": "'我的名字叫Chichi我的身高1.8公里我的體重60公斤'",
            "text/html": [
              "'我的名字叫Chichi我的身高1.8公里我的體重60公斤'"
            ]
          },
          "metadata": {
            "tags": []
          }
        }
      ]
    },
    {
      "cell_type": "code",
      "metadata": {
        "id": "d0dyGoC8XdJD",
        "colab_type": "code",
        "colab": {}
      },
      "source": [
        "class(\"Hi\")\n",
        "\"character\""
      ],
      "execution_count": null,
      "outputs": []
    },
    {
      "cell_type": "code",
      "metadata": {
        "id": "9vrrtn3xXmlJ",
        "colab_type": "code",
        "colab": {
          "base_uri": "https://localhost:8080/",
          "height": 34
        },
        "outputId": "9671e290-280b-4865-89e2-aac789fe0c4f"
      },
      "source": [
        "8 + 7\n"
      ],
      "execution_count": null,
      "outputs": [
        {
          "output_type": "display_data",
          "data": {
            "text/plain": [
              "[1] 15"
            ],
            "text/latex": "15",
            "text/markdown": "15",
            "text/html": [
              "15"
            ]
          },
          "metadata": {
            "tags": []
          }
        }
      ]
    },
    {
      "cell_type": "code",
      "metadata": {
        "id": "Ify4OplEXy8G",
        "colab_type": "code",
        "colab": {
          "base_uri": "https://localhost:8080/",
          "height": 34
        },
        "outputId": "0b4a5c82-c9c1-4dab-a97a-809f4196c672"
      },
      "source": [
        "8 > 7"
      ],
      "execution_count": null,
      "outputs": [
        {
          "output_type": "display_data",
          "data": {
            "text/plain": [
              "[1] TRUE"
            ],
            "text/latex": "TRUE",
            "text/markdown": "TRUE",
            "text/html": [
              "TRUE"
            ]
          },
          "metadata": {
            "tags": []
          }
        }
      ]
    }
  ]
}